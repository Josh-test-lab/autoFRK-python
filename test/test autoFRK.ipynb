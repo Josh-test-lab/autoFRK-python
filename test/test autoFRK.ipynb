{
 "cells": [
  {
   "cell_type": "markdown",
   "id": "404059b3",
   "metadata": {},
   "source": [
    "# Test autoFRK"
   ]
  },
  {
   "cell_type": "markdown",
   "id": "ead88057",
   "metadata": {},
   "source": [
    "## Install our python autoFRK"
   ]
  },
  {
   "cell_type": "code",
   "execution_count": null,
   "id": "ee2d67e0",
   "metadata": {},
   "outputs": [],
   "source": [
    "print(\"=\" * 50)\n",
    "print(\"Python Environment Info\")\n",
    "print(\"=\" * 50)\n",
    "print(f\"Python executable: {sys.executable}\")\n",
    "print(f\"Python version: {sys.version.split()[0]}\")\n",
    "print()\n",
    "\n",
    "print(\"=\" * 50)\n",
    "print(\"Package Locations\")\n",
    "print(\"=\" * 50)\n",
    "print(f\"Torch location: {torch.__file__}\")\n",
    "print(f\"NumPy location: {np.__file__}\")\n",
    "print()\n",
    "\n",
    "print(\"=\" * 50)\n",
    "print(\"PyTorch Info\")\n",
    "print(\"=\" * 50)\n",
    "print(f\"PyTorch version: {torch.__version__}\")\n",
    "print(f\"CUDA available: {torch.cuda.is_available()}\")\n",
    "print(f\"CUDA build: {torch.version.cuda}\")\n",
    "print()\n",
    "\n",
    "print(\"=\" * 50)\n",
    "print(\"Test PyTorch Computation\")\n",
    "print(\"=\" * 50)\n",
    "x = torch.rand(3, 3)\n",
    "print(f\"Random tensor:\\n{x}\")\n",
    "print(f\"Sum: {x.sum().item():.4f}\")"
   ]
  },
  {
   "cell_type": "code",
   "execution_count": null,
   "id": "1ffef78d",
   "metadata": {},
   "outputs": [],
   "source": [
    "# install autoFRK in development mode\n",
    "import os\n",
    "import sys\n",
    "module_root = os.path.abspath(os.path.join(os.getcwd(), \"..\"))\n",
    "\n",
    "!\"{sys.executable}\" -m pip uninstall -y autoFRK\n",
    "!\"{sys.executable}\" -m pip install --upgrade pip build setuptools wheel matplotlib\n",
    "!\"{sys.executable}\" -m build {module_root}\n",
    "!\"{sys.executable}\" -m pip install -e \"{module_root}\""
   ]
  },
  {
   "cell_type": "markdown",
   "id": "5b43c412",
   "metadata": {},
   "source": [
    "## Import modules"
   ]
  },
  {
   "cell_type": "code",
   "execution_count": null,
   "id": "43f5dd66",
   "metadata": {},
   "outputs": [],
   "source": [
    "# import modules\n",
    "import numpy as np\n",
    "import pandas as pd\n",
    "import torch\n",
    "import matplotlib.pyplot as plt\n",
    "from autoFRK import AutoFRK\n",
    "from autoFRK.utils.utils import to_tensor"
   ]
  },
  {
   "cell_type": "markdown",
   "id": "9b9d6ebb",
   "metadata": {},
   "source": [
    "## Load data"
   ]
  },
  {
   "cell_type": "code",
   "execution_count": null,
   "id": "3a05dace",
   "metadata": {},
   "outputs": [],
   "source": [
    "# load data\n",
    "datasets_path = f'test datasets/matrixForTest'\n",
    "data = pd.read_csv(os.path.join(datasets_path, 'matrixForTest_data.csv'))\n",
    "locs = pd.read_csv(os.path.join(datasets_path, 'matrixForTest_locs.csv'))"
   ]
  },
  {
   "cell_type": "code",
   "execution_count": null,
   "id": "c2cd6103",
   "metadata": {},
   "outputs": [],
   "source": [
    "data"
   ]
  },
  {
   "cell_type": "code",
   "execution_count": null,
   "id": "8c8978f3",
   "metadata": {},
   "outputs": [],
   "source": [
    "locs"
   ]
  },
  {
   "cell_type": "markdown",
   "id": "80b35dec",
   "metadata": {},
   "source": [
    "## Convert data to tensor"
   ]
  },
  {
   "cell_type": "code",
   "execution_count": null,
   "id": "fd670d2c",
   "metadata": {},
   "outputs": [],
   "source": [
    "# convert to tensor\n",
    "data = to_tensor(data.to_numpy())\n",
    "locs = to_tensor(locs.to_numpy())"
   ]
  },
  {
   "cell_type": "markdown",
   "id": "4bb66f45",
   "metadata": {},
   "source": [
    "## Test on known locations"
   ]
  },
  {
   "cell_type": "code",
   "execution_count": null,
   "id": "5e5c4505",
   "metadata": {},
   "outputs": [],
   "source": [
    "model = AutoFRK()\n",
    "model.forward(\n",
    "    data=data,\n",
    "    loc=locs\n",
    ")"
   ]
  },
  {
   "cell_type": "code",
   "execution_count": null,
   "id": "61092e57",
   "metadata": {},
   "outputs": [],
   "source": [
    "pred = model.predict()"
   ]
  },
  {
   "cell_type": "code",
   "execution_count": null,
   "id": "a1adbdb8",
   "metadata": {},
   "outputs": [],
   "source": [
    "import torch.nn.functional as F\n",
    "\n",
    "F.mse_loss(pred['pred.value'], data).item()"
   ]
  },
  {
   "cell_type": "markdown",
   "id": "f2402c8f",
   "metadata": {},
   "source": [
    "```r\n",
    "> options(digits = 15)\n",
    "> print(mse)\n",
    "[1] 11.8539587159961 # R mse result\n",
    "```"
   ]
  },
  {
   "cell_type": "code",
   "execution_count": null,
   "id": "2a324146",
   "metadata": {},
   "outputs": [],
   "source": [
    "for i in range(data.shape[1]):\n",
    "    y_pred = pred['pred.value'][:, i]\n",
    "    y_true = data[:, i]\n",
    "\n",
    "    tmp = F.mse_loss(y_pred, y_true)\n",
    "    print(tmp)\n",
    "\n",
    "    plt.figure(figsize=(8,5))\n",
    "    plt.plot(y_true, label='True Value', marker='o')\n",
    "    plt.plot(y_pred, label='Predicted Value', marker='x')\n",
    "    plt.xlabel('Sample Index')\n",
    "    plt.ylabel('Value')\n",
    "    plt.title(f'Prediction vs True Value at {i} Step with error {round(tmp.item(), 2)}')\n",
    "    plt.legend()\n",
    "    plt.grid(True)\n",
    "    plt.show()"
   ]
  },
  {
   "cell_type": "code",
   "execution_count": null,
   "id": "4e767576",
   "metadata": {},
   "outputs": [],
   "source": [
    "for i in range(data.shape[1]):\n",
    "    y_pred = pred['pred.value'][:, i]\n",
    "    y_true = data[:, i]\n",
    "\n",
    "    tmp = F.mse_loss(y_pred, y_true)\n",
    "    print(tmp.item())"
   ]
  },
  {
   "cell_type": "markdown",
   "id": "af8fb7a3",
   "metadata": {},
   "source": [
    "### Compare with r result\n",
    "\n",
    "```r\n",
    "> temp # r residual result\n",
    " [1]  7.9766306122139898 12.0116817669945561  8.0081251964859330  3.5373058520311229 13.8528751726772583\n",
    " [6]  1.7858863206045086  9.8859536589469261 30.0424029115677840 27.0729660181976612  0.2159766252862333\n",
    "[11]  0.0752655442993194  5.8887993596240475 12.5987205947255649 11.4932438517303979 37.7533887912337889\n",
    "[16]  1.7491903038108714  4.2473651696074111  6.6476433759056297  4.3364578111025098  5.5149082237930296\n",
    "[21] 23.4936795233438822  5.3612826806645080 10.3639904061309522 22.0650623239508086  3.2049127751009370\n",
    "[26]  5.1869105672897371 30.8554320276935812  1.3647053212213505  9.0990348107428840 39.9289638829070839\n",
    "```\n",
    "\n",
    "經過確認，R 與 Python 的結果是大致一致的。\n",
    "全時間點與各時間點的 MSE ，與 R 的結果皆相差不大，精準度介於小數點後6位元至10位元。"
   ]
  },
  {
   "cell_type": "markdown",
   "id": "001b71ea",
   "metadata": {},
   "source": [
    "## Test on unknown locations\n",
    "### Split data into train and test"
   ]
  },
  {
   "cell_type": "code",
   "execution_count": null,
   "id": "5a276b8a",
   "metadata": {},
   "outputs": [],
   "source": [
    "## split data into train and test\n",
    "train_data = data[:70, :]\n",
    "test_data = data[70:, :]\n",
    "train_locs = locs[:70, :]\n",
    "test_locs = locs[70:, :]\n",
    "\n",
    "## training on train data\n",
    "model = AutoFRK()\n",
    "model.forward(\n",
    "    data=train_data,\n",
    "    loc=train_locs\n",
    ")\n",
    "\n",
    "## predict on test data\n",
    "pred = model.predict(\n",
    "    newloc = test_locs\n",
    ")\n",
    "F.mse_loss(pred['pred.value'], test_data).item()\n",
    "for i in range(test_data.shape[1]):\n",
    "    y_pred = pred['pred.value'][:, i]\n",
    "    y_true = test_data[:, i]\n",
    "\n",
    "    tmp = F.mse_loss(y_pred, y_true)\n",
    "    print(tmp.item())"
   ]
  },
  {
   "cell_type": "code",
   "execution_count": null,
   "id": "827bd69c",
   "metadata": {},
   "outputs": [],
   "source": [
    "def p(obj):\n",
    "    \"\"\"\n",
    "    遞迴漂亮印出 dict / list / tensor。\n",
    "    tensor 會換行縮排對齊，方便查看。\n",
    "    \"\"\"\n",
    "    def pretty_tensor(tensor: torch.Tensor, indent: int = 6) -> str:\n",
    "        lines = str(tensor).split(\"\\n\")\n",
    "        if len(lines) == 1:\n",
    "            return f\"{lines[0]}\"\n",
    "        ind = \" \" * indent\n",
    "        return \"\\n\" + \"\\n\".join(ind + line for line in lines) + \"\\n\" + \" \" * (indent - 2)\n",
    "\n",
    "    def _p(obj, indent=0):\n",
    "        space = \" \" * indent\n",
    "        if isinstance(obj, dict):\n",
    "            print(space + \"{\")\n",
    "            for k, v in obj.items():\n",
    "                print(f\"{space}  {repr(k)}: \", end=\"\")\n",
    "                _p(v, indent + 4)\n",
    "            print(space + \"}\")\n",
    "        elif isinstance(obj, list) or isinstance(obj, tuple):\n",
    "            print(space + \"[\")\n",
    "            for v in obj:\n",
    "                _p(v, indent + 4)\n",
    "            print(space + \"]\")\n",
    "        elif isinstance(obj, torch.Tensor):\n",
    "            print(pretty_tensor(obj, indent + 4))\n",
    "        else:\n",
    "            print(repr(obj))\n",
    "\n",
    "    _p(obj)"
   ]
  },
  {
   "cell_type": "code",
   "execution_count": null,
   "id": "71b974fb",
   "metadata": {},
   "outputs": [],
   "source": [
    "p(model.obj)"
   ]
  },
  {
   "cell_type": "markdown",
   "id": "a28fe3ed",
   "metadata": {},
   "source": [
    "### Compare with r result"
   ]
  }
 ],
 "metadata": {
  "kernelspec": {
   "display_name": ".venv-cpu",
   "language": "python",
   "name": "python3"
  },
  "language_info": {
   "codemirror_mode": {
    "name": "ipython",
    "version": 3
   },
   "file_extension": ".py",
   "mimetype": "text/x-python",
   "name": "python",
   "nbconvert_exporter": "python",
   "pygments_lexer": "ipython3",
   "version": "3.12.10"
  }
 },
 "nbformat": 4,
 "nbformat_minor": 5
}
